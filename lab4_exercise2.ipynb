{
 "cells": [
  {
   "cell_type": "markdown",
   "metadata": {},
   "source": [
    "# Lab 4, Exercise 2"
   ]
  },
  {
   "cell_type": "markdown",
   "metadata": {},
   "source": [
    "## Instructions\n",
    "The goal of this exercise is to build a straightforward machine learning pipeline for a problem with more than two classes.  A lot of the data preprocessing has already been done, so the main focus of this exercise is to become familiar with loading data, training a model, doing inference, and analyzing the results."
   ]
  },
  {
   "cell_type": "code",
   "execution_count": 1,
   "metadata": {},
   "outputs": [],
   "source": [
    "import numpy as np\n",
    "import pandas as pd"
   ]
  },
  {
   "cell_type": "markdown",
   "metadata": {},
   "source": [
    "## Load the data\n",
    "\n",
    "For example, here's the first couple rows of the dataset:\n",
    "\n",
    "| Source IP    |  Source Port |  Destination IP   |  Destination Port |  Protocol |  Flow Duration |  Flow Bytes/s |  Flow Packets/s |  Flow IAT Mean |  Flow IAT Std |  Flow IAT Max |  Flow IAT Min | Fwd IAT Mean |  Fwd IAT Std |  Fwd IAT Max |  Fwd IAT Min | Bwd IAT Mean |  Bwd IAT Std |  Bwd IAT Max |  Bwd IAT Min | Active Mean |  Active Std |  Active Max |  Active Min | Idle Mean |  Idle Std |  Idle Max |  Idle Min | label |\n",
    "|--------------|--------------|-------------------|-------------------|-----------|----------------|---------------|-----------------|----------------|---------------|---------------|---------------|--------------|--------------|--------------|--------------|--------------|--------------|--------------|--------------|-------------|-------------|-------------|-------------|-----------|-----------|-----------|-----------|-------|\n",
    "| 10\\.0\\.2\\.15 | 57188        | 82\\.161\\.239\\.177 | 110               | 6         | 7248168        | 21126\\.02798  | 29\\.11080428    | 34515\\.08571   | 273869\\.2625  | 3897923       | 5             | 89483\\.55556 | 437167\\.5917 | 3898126      | 29           | 56614\\.03906 | 349855\\.1098 | 3898131      | 7            | 0           | 0           | 0           | 0           | 0         | 0         | 0         | 0         | AUDIO |\n",
    "| 10\\.0\\.2\\.15 | 57188        | 82\\.161\\.239\\.177 | 110               | 6         | 5157723        | 1052\\.790156  | 3\\.683796125    | 286540\\.1667   | 878838\\.5256  | 3743359       | 135           | 644715\\.375  | 1272066\\.058 | 3743562      | 509          | 568901\\.6667 | 1209110\\.287 | 3743573      | 451          | 0           | 0           | 0           | 0           | 0         | 0         | 0         | 0         | AUDIO |\n",
    "\n"
   ]
  },
  {
   "cell_type": "code",
   "execution_count": 2,
   "metadata": {},
   "outputs": [],
   "source": [
    "# Import CSV data as a Pandas dataframe\n",
    "# The data is in 'data/exercise2/TOR_TimeBasedFeatures-10s-Layer2.csv'\n",
    "\n",
    "# CODE HERE\n",
    "csv_data = pd.read_csv('data/exercise2/TOR_TimeBasedFeatures-10s-Layer2.csv')\n",
    "\n",
    "# Create data and labels that can be used by sklearn's 'train_test_split'\n",
    "# Create the labels\n",
    "\n",
    "# CODE HERE\n",
    "labels = csv_data['label']\n",
    "\n",
    "# Create the data\n",
    "# -Keep just the numeric features (i.e., those features between 'Flow Duration' and 'Idle Min')\n",
    "# -Make sure not to keep the labels\n",
    "\n",
    "# CODE HERE\n",
    "data = csv_data.iloc[:,5:28]\n",
    "\n",
    "# You should now have data and labels that can be used by sklearn's 'train_test_split'"
   ]
  },
  {
   "cell_type": "markdown",
   "metadata": {},
   "source": [
    "## Create a single train/test split for experimentation"
   ]
  },
  {
   "cell_type": "code",
   "execution_count": 3,
   "metadata": {},
   "outputs": [],
   "source": [
    "# Randomly pick 50% of the data for the training set, and keep the remaining 50% for the test set\n",
    "# Use sklearn's 'train_test_split'\n",
    "# CODE HERE\n",
    "from sklearn.model_selection import train_test_split\n",
    "X_train, X_test, y_train, y_test = train_test_split(data,labels,test_size=0.5)"
   ]
  },
  {
   "cell_type": "markdown",
   "metadata": {},
   "source": [
    "## Train a classifier"
   ]
  },
  {
   "cell_type": "code",
   "execution_count": 4,
   "metadata": {},
   "outputs": [
    {
     "name": "stderr",
     "output_type": "stream",
     "text": [
      "/home/sean/Documents/EE379K/EE379K-Lab4/env/lib/python3.6/site-packages/sklearn/ensemble/forest.py:245: FutureWarning: The default value of n_estimators will change from 10 in version 0.20 to 100 in 0.22.\n",
      "  \"10 in version 0.20 to 100 in 0.22.\", FutureWarning)\n"
     ]
    }
   ],
   "source": [
    "# Train a random forest classifier using default hyperparameters\n",
    "# Hint: Not counting any import statements, this can be done in a single line of code\n",
    "# CODE HERE\n",
    "from sklearn.ensemble import RandomForestClassifier\n",
    "model = RandomForestClassifier().fit(X_train, y_train)"
   ]
  },
  {
   "cell_type": "markdown",
   "metadata": {},
   "source": [
    "## Test the classifier on the test set"
   ]
  },
  {
   "cell_type": "code",
   "execution_count": 5,
   "metadata": {
    "scrolled": false
   },
   "outputs": [
    {
     "name": "stdout",
     "output_type": "stream",
     "text": [
      "Accuracy: 0.817503729487817\n",
      "Confusion Matrix:\n",
      "[[ 288   71    2    3    2    2    6    3]\n",
      " [  59  646   50    6   14    2   35    5]\n",
      " [   6   84   52    4    0    1    5    2]\n",
      " [   7   27    5  371    5    0   16    1]\n",
      " [   6   42    4   14   55    2    2    1]\n",
      " [   3    9    2    0    0  512    1    1]\n",
      " [  26  103   10   22   16   13  253    0]\n",
      " [   0   16    8    1    1    7    1 1111]]\n",
      "Confusion Matrix with Labels:\n",
      "                 p:AUDIO  p:BROWSING  p:CHAT  p:FILE-TRANSFER  p:MAIL  p:P2P  \\\n",
      "t:AUDIO              288          71       2                3       2      2   \n",
      "t:BROWSING            59         646      50                6      14      2   \n",
      "t:CHAT                 6          84      52                4       0      1   \n",
      "t:FILE-TRANSFER        7          27       5              371       5      0   \n",
      "t:MAIL                 6          42       4               14      55      2   \n",
      "t:P2P                  3           9       2                0       0    512   \n",
      "t:VIDEO               26         103      10               22      16     13   \n",
      "t:VOIP                 0          16       8                1       1      7   \n",
      "\n",
      "                 p:VIDEO  p:VOIP  \n",
      "t:AUDIO                6       3  \n",
      "t:BROWSING            35       5  \n",
      "t:CHAT                 5       2  \n",
      "t:FILE-TRANSFER       16       1  \n",
      "t:MAIL                 2       1  \n",
      "t:P2P                  1       1  \n",
      "t:VIDEO              253       0  \n",
      "t:VOIP                 1    1111  \n"
     ]
    }
   ],
   "source": [
    "# Predict the labels on the test set\n",
    "\n",
    "# CODE HERE\n",
    "preds = model.predict(X_test)\n",
    "\n",
    "# Use accuracy and a confusion matrix to measure performance\n",
    "# Hint: Use sklearn's built-in metrics\n",
    "\n",
    "# CODE HERE\n",
    "from sklearn import metrics\n",
    "labels_uniq = csv_data['label'].unique()\n",
    "acc = metrics.accuracy_score(y_test, preds)\n",
    "matrix = metrics.confusion_matrix(y_test, preds, labels=labels_uniq)\n",
    "mat_df = pd.DataFrame(\n",
    "    matrix,\n",
    "    index=['t:'+x for x in labels_uniq],\n",
    "    columns=['p:'+x for x in labels_uniq]\n",
    ")\n",
    "print('Accuracy: {}'.format(acc))\n",
    "print('Confusion Matrix:\\n{}'.format(matrix))\n",
    "print('Confusion Matrix with Labels:\\n{}'.format(mat_df))"
   ]
  },
  {
   "cell_type": "code",
   "execution_count": 6,
   "metadata": {},
   "outputs": [
    {
     "name": "stdout",
     "output_type": "stream",
     "text": [
      "Feature\t\tImportance\n",
      "Flow IAT Min\t0.11527062510580362\n",
      "Bwd IAT Min\t0.10232280517910446\n",
      "Fwd IAT Min\t0.09100448643274058\n",
      "Idle Mean\t0.08865546761730136\n",
      "Bwd IAT Std\t0.08159359283202991\n",
      "Fwd IAT Mean\t0.07670357789533365\n",
      "Bwd IAT Max\t0.06202825575499599\n",
      "Fwd IAT Std\t0.06135180168000219\n",
      "Bwd IAT Mean\t0.05392637364959135\n",
      "Active Max\t0.05030235612694543\n",
      "Active Mean\t0.04471946295225557\n",
      "Active Min\t0.0438926147529209\n",
      "Active Std\t0.0428066064735526\n",
      "Flow IAT Max\t0.038563394008160654\n",
      "Fwd IAT Max\t0.03062073033687629\n",
      "Idle Std\t0.0038529394122149645\n",
      "Idle Min\t0.0038186252231571143\n",
      "Idle Max\t0.0\n"
     ]
    }
   ],
   "source": [
    "# Determine important features\n",
    "\n",
    "# CODE HERE\n",
    "ft_imps = [ft for ft in zip(data.columns[5:28], model.feature_importances_)]\n",
    "ft_imps.sort(key=lambda ft: ft[1], reverse=True)\n",
    "print('Feature\\t\\tImportance')\n",
    "for ft in ft_imps: print('{}\\t{}'.format(ft[0].strip(), ft[1]))"
   ]
  },
  {
   "cell_type": "markdown",
   "metadata": {},
   "source": [
    "Questions:\n",
    "\n",
    "1) What is the overall accuracy using the default parameters?  \n",
    "\n",
    "2) What is the confusion matrix for the tested approach?  What are the classes where the model performs well?  What are the classes where the model performs poorly?\n",
    "\n",
    "3) What are the top 5 most important features?\n",
    "\n",
    "4) What hyperparameters could you tune in the random forest to improve performance? What is the best accuracy you can attain?\n",
    "\n",
    "5) Bonus: How would you improve the pipeline above to automatically tune the hyperparameters?  How would you improve the pipeline to use multiple train/test splits?"
   ]
  }
 ],
 "metadata": {
  "kernelspec": {
   "display_name": "Python 3",
   "language": "python",
   "name": "python3"
  },
  "language_info": {
   "codemirror_mode": {
    "name": "ipython",
    "version": 3
   },
   "file_extension": ".py",
   "mimetype": "text/x-python",
   "name": "python",
   "nbconvert_exporter": "python",
   "pygments_lexer": "ipython3",
   "version": "3.6.8"
  }
 },
 "nbformat": 4,
 "nbformat_minor": 4
}
